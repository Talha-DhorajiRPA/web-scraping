{
 "cells": [
  {
   "cell_type": "markdown",
   "id": "8bcdac91",
   "metadata": {},
   "source": [
    "# yaadgaar-tea-rusks"
   ]
  },
  {
   "cell_type": "code",
   "execution_count": 4,
   "id": "998c5f3e",
   "metadata": {},
   "outputs": [],
   "source": [
    "from bs4 import BeautifulSoup\n",
    "from urllib.request import urlopen\n",
    "from urllib.request import urlretrieve"
   ]
  },
  {
   "cell_type": "code",
   "execution_count": 3,
   "id": "b94318dc",
   "metadata": {},
   "outputs": [
    {
     "name": "stdout",
     "output_type": "stream",
     "text": [
      "https://cdn11.bigcommerce.com/s-jwha7sf47a/images/stencil/1280x1280/products/9184/15854/1380941426__65477.1637068965.png?c=1\n"
     ]
    },
    {
     "data": {
      "text/plain": [
       "('Yaadgaar Tea Rusks 200g.jpg', <http.client.HTTPMessage at 0x1b290755df0>)"
      ]
     },
     "execution_count": 3,
     "metadata": {},
     "output_type": "execute_result"
    }
   ],
   "source": [
    "html = urlopen('https://eurasiaonline.ie/yaadgaar-tea-rusks-200g/')\n",
    "html = html.read()\n",
    "\n",
    "bs = BeautifulSoup(html, 'html.parser')\n",
    "src = bs.find('div', {'class' : 'productView-img-container'})\n",
    "prdName = bs.find('h1', {'class' : 'productView-title main-heading'}).text\n",
    "\n",
    "src = src.a.attrs['href']\n",
    "\n",
    "print(src)\n",
    "\n",
    "urlretrieve(src, prdName + '.jpg')"
   ]
  },
  {
   "cell_type": "markdown",
   "id": "8bdbd30d",
   "metadata": {},
   "source": [
    "# YAADGAAR COCONUT BISCUITS"
   ]
  },
  {
   "cell_type": "code",
   "execution_count": 6,
   "id": "46bf8003",
   "metadata": {},
   "outputs": [],
   "source": [
    "from bs4 import BeautifulSoup\n",
    "from urllib.request import urlopen\n",
    "from urllib.request import urlretrieve"
   ]
  },
  {
   "cell_type": "code",
   "execution_count": 7,
   "id": "483c993a",
   "metadata": {},
   "outputs": [
    {
     "name": "stdout",
     "output_type": "stream",
     "text": [
      "https://cdn11.bigcommerce.com/s-jwha7sf47a/images/stencil/1280x1280/products/9174/15844/1380941381__53155.1637068964.png?c=1\n"
     ]
    },
    {
     "data": {
      "text/plain": [
       "('Yaadgaar Coconut Biscuits 200g.jpg',\n",
       " <http.client.HTTPMessage at 0x1b2908d97f0>)"
      ]
     },
     "execution_count": 7,
     "metadata": {},
     "output_type": "execute_result"
    }
   ],
   "source": [
    "html = urlopen('https://eurasiaonline.ie/yaadgaar-coconut-biscuits-200g/')\n",
    "html = html.read()\n",
    "\n",
    "bs = BeautifulSoup(html, 'html.parser')\n",
    "src = bs.find('div', {'class' : 'productView-img-container'})\n",
    "prdName = bs.find('h1', {'class' : 'productView-title main-heading'}).text\n",
    "\n",
    "src = src.a.attrs['href']\n",
    "\n",
    "print(src)\n",
    "\n",
    "urlretrieve(src, prdName + '.jpg')"
   ]
  },
  {
   "cell_type": "markdown",
   "id": "6bd61d4b",
   "metadata": {},
   "source": [
    "# wai-wai-vermicilli"
   ]
  },
  {
   "cell_type": "code",
   "execution_count": 8,
   "id": "8d1eed06",
   "metadata": {},
   "outputs": [],
   "source": [
    "from bs4 import BeautifulSoup\n",
    "from urllib.request import urlopen\n",
    "from urllib.request import urlretrieve"
   ]
  },
  {
   "cell_type": "code",
   "execution_count": 10,
   "id": "b3299690",
   "metadata": {},
   "outputs": [
    {
     "name": "stdout",
     "output_type": "stream",
     "text": [
      "https://cdn11.bigcommerce.com/s-jwha7sf47a/images/stencil/1280x1280/products/9166/15836/1380941336__01445.1637068962.png?c=1\n"
     ]
    },
    {
     "data": {
      "text/plain": [
       "('Wai Wai Vermicilli 200g.jpg', <http.client.HTTPMessage at 0x1b28f9f0160>)"
      ]
     },
     "execution_count": 10,
     "metadata": {},
     "output_type": "execute_result"
    }
   ],
   "source": [
    "html = urlopen('https://eurasiaonline.ie/wai-wai-vermicilli-200g//')\n",
    "html = html.read()\n",
    "\n",
    "bs = BeautifulSoup(html, 'html.parser')\n",
    "src = bs.find('div', {'class' : 'productView-img-container'})\n",
    "prdName = bs.find('h1', {'class' : 'productView-title main-heading'}).text\n",
    "\n",
    "src = src.a.attrs['href']\n",
    "\n",
    "print(src)\n",
    "\n",
    "urlretrieve(src, prdName + '.jpg')"
   ]
  },
  {
   "cell_type": "markdown",
   "id": "61e71891",
   "metadata": {},
   "source": [
    "# Wai Wai Oriental Noodles"
   ]
  },
  {
   "cell_type": "code",
   "execution_count": 12,
   "id": "018bd204",
   "metadata": {},
   "outputs": [],
   "source": [
    "from bs4 import BeautifulSoup\n",
    "from urllib.request import urlopen\n",
    "from urllib.request import urlretrieve"
   ]
  },
  {
   "cell_type": "code",
   "execution_count": 11,
   "id": "125bd54e",
   "metadata": {},
   "outputs": [
    {
     "name": "stdout",
     "output_type": "stream",
     "text": [
      "https://cdn11.bigcommerce.com/s-jwha7sf47a/images/stencil/1280x1280/products/9165/15835/1380941331__77396.1637068962.jpg?c=1\n"
     ]
    },
    {
     "data": {
      "text/plain": [
       "('Wai Wai Oriental Noodles 60g.jpg',\n",
       " <http.client.HTTPMessage at 0x1b290171280>)"
      ]
     },
     "execution_count": 11,
     "metadata": {},
     "output_type": "execute_result"
    }
   ],
   "source": [
    "html = urlopen('https://eurasiaonline.ie/wai-wai-oriental-noodles-60g/')\n",
    "html = html.read()\n",
    "\n",
    "bs = BeautifulSoup(html, 'html.parser')\n",
    "src = bs.find('div', {'class' : 'productView-img-container'})\n",
    "prdName = bs.find('h1', {'class' : 'productView-title main-heading'}).text\n",
    "\n",
    "src = src.a.attrs['href']\n",
    "\n",
    "print(src)\n",
    "\n",
    "urlretrieve(src, prdName + '.jpg')"
   ]
  },
  {
   "cell_type": "markdown",
   "id": "5d433e24",
   "metadata": {},
   "source": [
    "# Wai Wai 123 Noodles 75g"
   ]
  },
  {
   "cell_type": "code",
   "execution_count": 14,
   "id": "80d3253a",
   "metadata": {},
   "outputs": [],
   "source": [
    "from bs4 import BeautifulSoup\n",
    "from urllib.request import urlopen\n",
    "from urllib.request import urlretrieve"
   ]
  },
  {
   "cell_type": "code",
   "execution_count": 17,
   "id": "162c0df2",
   "metadata": {},
   "outputs": [
    {
     "name": "stdout",
     "output_type": "stream",
     "text": [
      "https://cdn11.bigcommerce.com/s-jwha7sf47a/images/stencil/1280x1280/products/9163/15833/1380941321__44347.1637068961.png?c=1\n"
     ]
    },
    {
     "data": {
      "text/plain": [
       "('Wai Wai 123 Noodles 75g.jpg', <http.client.HTTPMessage at 0x1b291c8bcd0>)"
      ]
     },
     "execution_count": 17,
     "metadata": {},
     "output_type": "execute_result"
    }
   ],
   "source": [
    "html = urlopen('https://eurasiaonline.ie/wai-wai-123-noodles-75g/')\n",
    "html = html.read()\n",
    "\n",
    "bs = BeautifulSoup(html, 'html.parser')\n",
    "src = bs.find('div', {'class' : 'productView-img-container'})\n",
    "prdName = bs.find('h1', {'class' : 'productView-title main-heading'}).text\n",
    "\n",
    "src = src.a.attrs['href']\n",
    "\n",
    "print(src)\n",
    "\n",
    "urlretrieve(src, prdName + '.jpg')"
   ]
  },
  {
   "cell_type": "markdown",
   "id": "216ad3ac",
   "metadata": {},
   "source": [
    "# Tropical Sun Pure Natural Honey"
   ]
  },
  {
   "cell_type": "code",
   "execution_count": 18,
   "id": "b5528a25",
   "metadata": {},
   "outputs": [],
   "source": [
    "from bs4 import BeautifulSoup\n",
    "from urllib.request import urlopen\n",
    "from urllib.request import urlretrieve"
   ]
  },
  {
   "cell_type": "code",
   "execution_count": 19,
   "id": "16f68f87",
   "metadata": {},
   "outputs": [
    {
     "name": "stdout",
     "output_type": "stream",
     "text": [
      "https://cdn11.bigcommerce.com/s-jwha7sf47a/images/stencil/1280x1280/products/9037/15723/1380939761__63787.1637068941.png?c=1\n"
     ]
    },
    {
     "data": {
      "text/plain": [
       "('Tropical Sun Pure Natural Honey 350g.jpg',\n",
       " <http.client.HTTPMessage at 0x1b291e0f6d0>)"
      ]
     },
     "execution_count": 19,
     "metadata": {},
     "output_type": "execute_result"
    }
   ],
   "source": [
    "html = urlopen('https://eurasiaonline.ie/tropical-sun-pure-natural-honey-350g/')\n",
    "html = html.read()\n",
    "\n",
    "bs = BeautifulSoup(html, 'html.parser')\n",
    "src = bs.find('div', {'class' : 'productView-img-container'})\n",
    "prdName = bs.find('h1', {'class' : 'productView-title main-heading'}).text\n",
    "\n",
    "src = src.a.attrs['href']\n",
    "\n",
    "print(src)\n",
    "\n",
    "urlretrieve(src, prdName + '.jpg')"
   ]
  },
  {
   "cell_type": "markdown",
   "id": "3898b1e5",
   "metadata": {},
   "source": [
    "# Tropical Sun Evaporated Milk "
   ]
  },
  {
   "cell_type": "code",
   "execution_count": 20,
   "id": "5bbc3fe4",
   "metadata": {},
   "outputs": [],
   "source": [
    "from bs4 import BeautifulSoup\n",
    "from urllib.request import urlopen\n",
    "from urllib.request import urlretrieve"
   ]
  },
  {
   "cell_type": "code",
   "execution_count": 21,
   "id": "ac7d9017",
   "metadata": {},
   "outputs": [
    {
     "name": "stdout",
     "output_type": "stream",
     "text": [
      "https://cdn11.bigcommerce.com/s-jwha7sf47a/images/stencil/1280x1280/products/9031/15717/1380939731__43939.1637068940.png?c=1\n"
     ]
    },
    {
     "data": {
      "text/plain": [
       "('Tropical Sun Evaporated Milk 400g.jpg',\n",
       " <http.client.HTTPMessage at 0x1b291f86ee0>)"
      ]
     },
     "execution_count": 21,
     "metadata": {},
     "output_type": "execute_result"
    }
   ],
   "source": [
    "html = urlopen('https://eurasiaonline.ie/tropical-sun-evaporated-milk-400g/')\n",
    "html = html.read()\n",
    "\n",
    "bs = BeautifulSoup(html, 'html.parser')\n",
    "src = bs.find('div', {'class' : 'productView-img-container'})\n",
    "prdName = bs.find('h1', {'class' : 'productView-title main-heading'}).text\n",
    "\n",
    "src = src.a.attrs['href']\n",
    "\n",
    "print(src)\n",
    "\n",
    "urlretrieve(src, prdName + '.jpg')"
   ]
  },
  {
   "cell_type": "markdown",
   "id": "972f2053",
   "metadata": {},
   "source": [
    "# Tropical Sun Apple Cider Vinegar"
   ]
  },
  {
   "cell_type": "code",
   "execution_count": 22,
   "id": "2f3de46b",
   "metadata": {},
   "outputs": [],
   "source": [
    "from bs4 import BeautifulSoup\n",
    "from urllib.request import urlopen\n",
    "from urllib.request import urlretrieve"
   ]
  },
  {
   "cell_type": "code",
   "execution_count": 25,
   "id": "960613ab",
   "metadata": {},
   "outputs": [
    {
     "name": "stdout",
     "output_type": "stream",
     "text": [
      "https://cdn11.bigcommerce.com/s-jwha7sf47a/images/stencil/1280x1280/products/9009/15695/1380939621__48869.1637068936.png?c=1\n"
     ]
    },
    {
     "data": {
      "text/plain": [
       "('Tropical Sun Apple Cider Vinegar 400ml.jpg',\n",
       " <http.client.HTTPMessage at 0x1b29228b0d0>)"
      ]
     },
     "execution_count": 25,
     "metadata": {},
     "output_type": "execute_result"
    }
   ],
   "source": [
    "html = urlopen('https://eurasiaonline.ie/tropical-sun-apple-cider-vinegar-400ml//')\n",
    "html = html.read()\n",
    "\n",
    "bs = BeautifulSoup(html, 'html.parser')\n",
    "src = bs.find('div', {'class' : 'productView-img-container'})\n",
    "prdName = bs.find('h1', {'class' : 'productView-title main-heading'}).text\n",
    "\n",
    "src = src.a.attrs['href']\n",
    "\n",
    "print(src)\n",
    "\n",
    "urlretrieve(src, prdName + '.jpg')"
   ]
  },
  {
   "cell_type": "markdown",
   "id": "8180e58e",
   "metadata": {},
   "source": [
    "# Tate Lyle Sugar "
   ]
  },
  {
   "cell_type": "code",
   "execution_count": 24,
   "id": "5c61c2e3",
   "metadata": {},
   "outputs": [],
   "source": [
    "from bs4 import BeautifulSoup\n",
    "from urllib.request import urlopen\n",
    "from urllib.request import urlretrieve"
   ]
  },
  {
   "cell_type": "code",
   "execution_count": 26,
   "id": "ca4c1c01",
   "metadata": {},
   "outputs": [
    {
     "name": "stdout",
     "output_type": "stream",
     "text": [
      "https://cdn11.bigcommerce.com/s-jwha7sf47a/images/stencil/1280x1280/products/8971/15665/1380939471__20952.1637068930.png?c=1\n"
     ]
    },
    {
     "data": {
      "text/plain": [
       "('Tate Lyle Sugar 1 Kg.jpg', <http.client.HTTPMessage at 0x1b2924017f0>)"
      ]
     },
     "execution_count": 26,
     "metadata": {},
     "output_type": "execute_result"
    }
   ],
   "source": [
    "html = urlopen('https://eurasiaonline.ie/tate-lyle-sugar-1-kg/')\n",
    "html = html.read()\n",
    "\n",
    "bs = BeautifulSoup(html, 'html.parser')\n",
    "src = bs.find('div', {'class' : 'productView-img-container'})\n",
    "prdName = bs.find('h1', {'class' : 'productView-title main-heading'}).text\n",
    "\n",
    "src = src.a.attrs['href']\n",
    "\n",
    "print(src)\n",
    "\n",
    "urlretrieve(src, prdName + '.jpg')"
   ]
  },
  {
   "cell_type": "markdown",
   "id": "1ceef108",
   "metadata": {},
   "source": [
    "# Tata Tea Gold Label"
   ]
  },
  {
   "cell_type": "code",
   "execution_count": 27,
   "id": "391304fb",
   "metadata": {},
   "outputs": [],
   "source": [
    "from bs4 import BeautifulSoup\n",
    "from urllib.request import urlopen\n",
    "from urllib.request import urlretrieve"
   ]
  },
  {
   "cell_type": "code",
   "execution_count": 28,
   "id": "e7dacb94",
   "metadata": {},
   "outputs": [
    {
     "name": "stdout",
     "output_type": "stream",
     "text": [
      "https://cdn11.bigcommerce.com/s-jwha7sf47a/images/stencil/1280x1280/products/8970/15664/1380939466__84767.1637068930.png?c=1\n"
     ]
    },
    {
     "data": {
      "text/plain": [
       "('Tata Tea Gold Label 450g.jpg', <http.client.HTTPMessage at 0x1b292577f70>)"
      ]
     },
     "execution_count": 28,
     "metadata": {},
     "output_type": "execute_result"
    }
   ],
   "source": [
    "html = urlopen('https://eurasiaonline.ie/tata-tea-gold-label-450g/')\n",
    "html = html.read()\n",
    "\n",
    "bs = BeautifulSoup(html, 'html.parser')\n",
    "src = bs.find('div', {'class' : 'productView-img-container'})\n",
    "prdName = bs.find('h1', {'class' : 'productView-title main-heading'}).text\n",
    "\n",
    "src = src.a.attrs['href']\n",
    "\n",
    "print(src)\n",
    "\n",
    "urlretrieve(src, prdName + '.jpg')"
   ]
  },
  {
   "cell_type": "markdown",
   "id": "eddb4cf1",
   "metadata": {},
   "source": [
    "# Tata Salt"
   ]
  },
  {
   "cell_type": "code",
   "execution_count": 29,
   "id": "61460224",
   "metadata": {},
   "outputs": [],
   "source": [
    "from bs4 import BeautifulSoup\n",
    "from urllib.request import urlopen\n",
    "from urllib.request import urlretrieve"
   ]
  },
  {
   "cell_type": "code",
   "execution_count": 30,
   "id": "e56ec576",
   "metadata": {},
   "outputs": [
    {
     "name": "stdout",
     "output_type": "stream",
     "text": [
      "https://cdn11.bigcommerce.com/s-jwha7sf47a/images/stencil/1280x1280/products/8968/15662/1380939456__31520.1637068929.png?c=1\n"
     ]
    },
    {
     "data": {
      "text/plain": [
       "('Tata Salt 1 Kg.jpg', <http.client.HTTPMessage at 0x1b2926fd730>)"
      ]
     },
     "execution_count": 30,
     "metadata": {},
     "output_type": "execute_result"
    }
   ],
   "source": [
    "html = urlopen('https://eurasiaonline.ie/tata-salt-1-kg/')\n",
    "html = html.read()\n",
    "\n",
    "bs = BeautifulSoup(html, 'html.parser')\n",
    "src = bs.find('div', {'class' : 'productView-img-container'})\n",
    "prdName = bs.find('h1', {'class' : 'productView-title main-heading'}).text\n",
    "\n",
    "src = src.a.attrs['href']\n",
    "\n",
    "print(src)\n",
    "\n",
    "urlretrieve(src, prdName + '.jpg')"
   ]
  }
 ],
 "metadata": {
  "kernelspec": {
   "display_name": "Python 3",
   "language": "python",
   "name": "python3"
  },
  "language_info": {
   "codemirror_mode": {
    "name": "ipython",
    "version": 3
   },
   "file_extension": ".py",
   "mimetype": "text/x-python",
   "name": "python",
   "nbconvert_exporter": "python",
   "pygments_lexer": "ipython3",
   "version": "3.8.8"
  }
 },
 "nbformat": 4,
 "nbformat_minor": 5
}
