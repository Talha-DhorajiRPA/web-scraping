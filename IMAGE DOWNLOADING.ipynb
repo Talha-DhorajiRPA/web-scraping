{
 "cells": [
  {
   "cell_type": "code",
   "execution_count": 18,
   "metadata": {},
   "outputs": [],
   "source": [
    "from bs4 import BeautifulSoup\n",
    "from urllib.request import urlopen\n",
    "from urllib.request import urlretrieve"
   ]
  },
  {
   "cell_type": "code",
   "execution_count": 21,
   "metadata": {},
   "outputs": [
    {
     "name": "stdout",
     "output_type": "stream",
     "text": [
      "https://cdn11.bigcommerce.com/s-jwha7sf47a/images/stencil/1280x1280/products/9184/15854/1380941426__65477.1637068965.png?c=1\n"
     ]
    },
    {
     "data": {
      "text/plain": [
       "('Yaadgaar Tea Rusks 200g.jpg', <http.client.HTTPMessage at 0x220088754f0>)"
      ]
     },
     "execution_count": 21,
     "metadata": {},
     "output_type": "execute_result"
    }
   ],
   "source": [
    "html = urlopen('https://eurasiaonline.ie/yaadgaar-tea-rusks-200g/')\n",
    "html = html.read()\n",
    "\n",
    "bs = BeautifulSoup(html, 'html.parser')\n",
    "src = bs.find('div', {'class' : 'productView-img-container'})\n",
    "prdName = bs.find('h1', {'class' : 'productView-title main-heading'}).text\n",
    "\n",
    "src = src.a.attrs['href']\n",
    "\n",
    "print(src)\n",
    "\n",
    "urlretrieve(src, prdName + '.jpg')\n",
    "\n",
    "\n"
   ]
  }
 ],
 "metadata": {
  "kernelspec": {
   "display_name": "Python 3",
   "language": "python",
   "name": "python3"
  },
  "language_info": {
   "codemirror_mode": {
    "name": "ipython",
    "version": 3
   },
   "file_extension": ".py",
   "mimetype": "text/x-python",
   "name": "python",
   "nbconvert_exporter": "python",
   "pygments_lexer": "ipython3",
   "version": "3.8.5"
  }
 },
 "nbformat": 4,
 "nbformat_minor": 4
}
